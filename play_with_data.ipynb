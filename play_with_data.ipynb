{
 "cells": [
  {
   "cell_type": "code",
   "execution_count": null,
   "metadata": {},
   "outputs": [],
   "source": [
    "import numpy as np\n",
    "\n",
    "cameras_path = \"./data/DTU/scan122/cameras.npz\"\n",
    "cameras_linear_init_path = \"./data/DTU/scan122/cameras_linear_init.npz\"\n",
    "\n",
    "data_cameras = np.load(cameras_path)\n",
    "data_cameras_linear_init = np.load(cameras_linear_init_path)\n",
    "\n",
    "# List all stored arrays\n",
    "print(\"Keys in the .npz file:\", data.files)"
   ]
  }
 ],
 "metadata": {
  "kernelspec": {
   "display_name": "neus-env",
   "language": "python",
   "name": "python3"
  },
  "language_info": {
   "name": "python",
   "version": "3.8.20"
  }
 },
 "nbformat": 4,
 "nbformat_minor": 2
}
